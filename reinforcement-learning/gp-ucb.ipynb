{
 "cells": [
  {
   "cell_type": "code",
   "execution_count": 1,
   "id": "e7e1ff7c-121c-4707-86e4-bc45662785f0",
   "metadata": {},
   "outputs": [],
   "source": [
    "import numpy as np\n",
    "import GPy\n",
    "import matplotlib.pyplot as plt"
   ]
  },
  {
   "cell_type": "code",
   "execution_count": 2,
   "id": "648a57bb-3558-449f-b26e-58345ecaf798",
   "metadata": {},
   "outputs": [],
   "source": [
    "# Define the true function (1D toy example)\n",
    "def f(x):\n",
    "    return -1 * np.sin(3 * x) - x**2 + 0.7 * x\n",
    "\n",
    "# Define the GP-UCB acquisition function\n",
    "def gp_ucb(gp_model, X, beta=2.0):\n",
    "    mean, var = gp_model.predict(X)\n",
    "    std_dev = np.sqrt(var)\n",
    "    return mean + beta * std_dev\n",
    "\n",
    "# Define the initial sample points\n",
    "num_initial_points = 5\n",
    "X_sample = np.random.uniform(-2, 2, size=(num_initial_points, 1))\n",
    "Y_sample = f(X_sample)"
   ]
  },
  {
   "cell_type": "code",
   "execution_count": 3,
   "id": "b930bc7a-7b56-4c0f-95ab-1e853038c0db",
   "metadata": {},
   "outputs": [
    {
     "name": "stderr",
     "output_type": "stream",
     "text": [
      " C:\\Users\\cgwie\\anaconda3\\lib\\site-packages\\GPy\\kern\\src\\rbf.py:52: RuntimeWarning:overflow encountered in square\n"
     ]
    }
   ],
   "source": [
    "# Create the GP model\n",
    "kernel = GPy.kern.RBF(input_dim=1, variance=1.0, lengthscale=1.0)\n",
    "gp_model = GPy.models.GPRegression(X_sample, Y_sample, kernel)\n",
    "\n",
    "# Optimization loop\n",
    "num_iterations = 15\n",
    "for i in range(num_iterations):\n",
    "    # Update the GP model\n",
    "    gp_model.optimize_restarts(num_restarts=10, verbose=False)\n",
    "    \n",
    "    # Calculate the GP-UCB acquisition function\n",
    "    X = np.linspace(-2, 2, 1000).reshape(-1, 1)\n",
    "    ucb_values = gp_ucb(gp_model, X)\n",
    "\n",
    "    # Select the point with the highest GP-UCB value\n",
    "    X_next = X[np.argmax(ucb_values)]\n",
    "\n",
    "    # Evaluate the true function at the selected point\n",
    "    Y_next = f(X_next)\n",
    "\n",
    "    # Add the new point to the dataset\n",
    "    X_sample = np.vstack((X_sample, X_next))\n",
    "    Y_sample = np.vstack((Y_sample, Y_next))\n",
    "\n",
    "    # Update the GP model with the new data\n",
    "    gp_model.set_XY(X_sample, Y_sample)"
   ]
  },
  {
   "cell_type": "code",
   "execution_count": 4,
   "id": "eeb52267-1ce7-4b08-a377-40a6a8686598",
   "metadata": {},
   "outputs": [
    {
     "data": {
      "image/png": "[encoded data removed]",
      "text/plain": [
       "<Figure size 432x288 with 1 Axes>"
      ]
     },
     "metadata": {
      "needs_background": "light"
     },
     "output_type": "display_data"
    }
   ],
   "source": [
    "# Plot the final results\n",
    "plt.figure()\n",
    "X_plot = np.linspace(-2, 2, 1000).reshape(-1, 1)\n",
    "mean, _ = gp_model.predict(X_plot)\n",
    "plt.plot(X_plot, mean, label='GP mean')\n",
    "plt.plot(X_plot, f(X_plot), label='True function')\n",
    "plt.scatter(X_sample, Y_sample, color='red', label='Sampled points')\n",
    "plt.legend()\n",
    "plt.show()"
   ]
  }
 ],
 "metadata": {
  "kernelspec": {
   "display_name": "Python 3 (ipykernel)",
   "language": "python",
   "name": "python3"
  },
  "language_info": {
   "codemirror_mode": {
    "name": "ipython",
    "version": 3
   },
   "file_extension": ".py",
   "mimetype": "text/x-python",
   "name": "python",
   "nbconvert_exporter": "python",
   "pygments_lexer": "ipython3",
   "version": "3.9.12"
  }
 },
 "nbformat": 4,
 "nbformat_minor": 5
}
